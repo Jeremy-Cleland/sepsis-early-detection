{
 "cells": [
  {
   "cell_type": "code",
   "execution_count": 1,
   "metadata": {},
   "outputs": [
    {
     "name": "stdout",
     "output_type": "stream",
     "text": [
      "Checkpoint loaded successfully.\n"
     ]
    }
   ],
   "source": [
    "import joblib\n",
    "\n",
    "try:\n",
    "    df_train_processed, df_val_processed, df_test_processed = joblib.load(\n",
    "        \"../checkpoints/preprocessed_data.pkl\"\n",
    "    )\n",
    "    print(\"Checkpoint loaded successfully.\")\n",
    "except Exception as e:\n",
    "    print(f\"Error loading checkpoint: {e}\")"
   ]
  }
 ],
 "metadata": {
  "kernelspec": {
   "display_name": "predictsepsis",
   "language": "python",
   "name": "python3"
  },
  "language_info": {
   "codemirror_mode": {
    "name": "ipython",
    "version": 3
   },
   "file_extension": ".py",
   "mimetype": "text/x-python",
   "name": "python",
   "nbconvert_exporter": "python",
   "pygments_lexer": "ipython3",
   "version": "3.10.16"
  }
 },
 "nbformat": 4,
 "nbformat_minor": 2
}
