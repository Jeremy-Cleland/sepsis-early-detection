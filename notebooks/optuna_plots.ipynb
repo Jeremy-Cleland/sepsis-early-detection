{
 "cells": [
  {
   "cell_type": "code",
   "execution_count": 3,
   "metadata": {},
   "outputs": [
    {
     "name": "stdout",
     "output_type": "stream",
     "text": [
      "Checkpoint loaded successfully.\n"
     ]
    }
   ],
   "source": [
    "import joblib\n",
    "\n",
    "try:\n",
    "    df_train_processed, df_val_processed, df_test_processed = joblib.load(\n",
    "        \"/Users/jeremy/Desktop/predicting-sepsis-main/checkpoints/optuna_studies.pkl\"\n",
    "    )\n",
    "    print(\"Checkpoint loaded successfully.\")\n",
    "except Exception as e:\n",
    "    print(f\"Error loading checkpoint: {e}\")"
   ]
  },
  {
   "cell_type": "code",
   "execution_count": 14,
   "metadata": {},
   "outputs": [
    {
     "name": "stdout",
     "output_type": "stream",
     "text": [
      "Saved optimization_history plot to optuna_plots/Random_Forest_Optimization_optimization_history.html\n",
      "Saved parallel_coordinate plot to optuna_plots/Random_Forest_Optimization_parallel_coordinate.html\n",
      "Saved param_importances plot to optuna_plots/Random_Forest_Optimization_param_importances.html\n",
      "Saved slice plot to optuna_plots/Random_Forest_Optimization_slice.html\n",
      "Saved contour plot to optuna_plots/Random_Forest_Optimization_contour.html\n",
      "Saved optimization_history plot to optuna_plots/Random_Forest_Optimization_optimization_history.png\n",
      "Saved parallel_coordinate plot to optuna_plots/Random_Forest_Optimization_parallel_coordinate.png\n",
      "Saved param_importances plot to optuna_plots/Random_Forest_Optimization_param_importances.png\n",
      "Saved slice plot to optuna_plots/Random_Forest_Optimization_slice.png\n",
      "Saved contour plot to optuna_plots/Random_Forest_Optimization_contour.png\n",
      "All plots generated successfully.\n",
      "Saved optimization_history plot to optuna_plots/Logistic_Regression_Optimization_optimization_history.html\n",
      "Saved parallel_coordinate plot to optuna_plots/Logistic_Regression_Optimization_parallel_coordinate.html\n",
      "Saved param_importances plot to optuna_plots/Logistic_Regression_Optimization_param_importances.html\n",
      "Saved slice plot to optuna_plots/Logistic_Regression_Optimization_slice.html\n",
      "Saved contour plot to optuna_plots/Logistic_Regression_Optimization_contour.html\n",
      "Saved optimization_history plot to optuna_plots/Logistic_Regression_Optimization_optimization_history.png\n",
      "Saved parallel_coordinate plot to optuna_plots/Logistic_Regression_Optimization_parallel_coordinate.png\n",
      "Saved param_importances plot to optuna_plots/Logistic_Regression_Optimization_param_importances.png\n",
      "Saved slice plot to optuna_plots/Logistic_Regression_Optimization_slice.png\n",
      "Saved contour plot to optuna_plots/Logistic_Regression_Optimization_contour.png\n",
      "All plots generated successfully.\n",
      "Saved optimization_history plot to optuna_plots/XGBoost_Optimization_optimization_history.html\n",
      "Saved parallel_coordinate plot to optuna_plots/XGBoost_Optimization_parallel_coordinate.html\n",
      "Saved param_importances plot to optuna_plots/XGBoost_Optimization_param_importances.html\n",
      "Saved slice plot to optuna_plots/XGBoost_Optimization_slice.html\n",
      "Saved contour plot to optuna_plots/XGBoost_Optimization_contour.html\n",
      "Saved optimization_history plot to optuna_plots/XGBoost_Optimization_optimization_history.png\n",
      "Saved parallel_coordinate plot to optuna_plots/XGBoost_Optimization_parallel_coordinate.png\n",
      "Saved param_importances plot to optuna_plots/XGBoost_Optimization_param_importances.png\n",
      "Saved slice plot to optuna_plots/XGBoost_Optimization_slice.png\n",
      "Saved contour plot to optuna_plots/XGBoost_Optimization_contour.png\n",
      "All plots generated successfully.\n"
     ]
    }
   ],
   "source": [
    "import optuna\n",
    "import os\n",
    "from optuna.visualization import (\n",
    "    plot_optimization_history,\n",
    "    plot_parallel_coordinate,\n",
    "    plot_param_importances,\n",
    "    plot_slice,\n",
    "    plot_contour,\n",
    ")\n",
    "\n",
    "\n",
    "def visualize_optuna_study(\n",
    "    storage_url: str, study_name: str, output_dir: str = \"optuna_plots\"\n",
    "):\n",
    "    \"\"\"\n",
    "    Load an Optuna study from a database and generate common visualization plots.\n",
    "    The plots are interactive HTML files by default. If you want static images,\n",
    "    consider installing kaleido (e.g. `pip install kaleido`) and saving them as PNG.\n",
    "\n",
    "    Args:\n",
    "        storage_url (str): The database URL, e.g. \"sqlite:///my_study.db\"\n",
    "        study_name (str): The name of the study you want to visualize.\n",
    "        output_dir (str): Directory to save the plot files.\n",
    "    \"\"\"\n",
    "    # Create the output directory if it doesn't exist\n",
    "    os.makedirs(output_dir, exist_ok=True)\n",
    "\n",
    "    # Load the study\n",
    "    study = optuna.load_study(study_name=study_name, storage=storage_url)\n",
    "\n",
    "    # Generate plots\n",
    "    figures = {\n",
    "        \"optimization_history\": plot_optimization_history(study),\n",
    "        \"parallel_coordinate\": plot_parallel_coordinate(study),\n",
    "        \"param_importances\": plot_param_importances(study),\n",
    "        \"slice\": plot_slice(study),\n",
    "        \"contour\": plot_contour(study),\n",
    "    }\n",
    "\n",
    "    # Save each figure as an HTML file (for interactive viewing)\n",
    "    for name, fig in figures.items():\n",
    "        html_path = os.path.join(output_dir, f\"{study_name}_{name}.html\")\n",
    "        fig.write_html(html_path)\n",
    "        print(f\"Saved {name} plot to {html_path}\")\n",
    "\n",
    "    for name, fig in figures.items():\n",
    "        png_path = os.path.join(output_dir, f\"{study_name}_{name}.png\")\n",
    "        fig.write_image(png_path)\n",
    "        print(f\"Saved {name} plot to {png_path}\")\n",
    "\n",
    "    print(\"All plots generated successfully.\")\n",
    "\n",
    "\n",
    "# Example usage:\n",
    "visualize_optuna_study(\n",
    "    \"sqlite:///../sepsis_prediction_optimization.db\", \"Random_Forest_Optimization\"\n",
    ")\n",
    "visualize_optuna_study(\n",
    "    \"sqlite:///../sepsis_prediction_optimization.db\", \"Logistic_Regression_Optimization\"\n",
    ")\n",
    "visualize_optuna_study(\n",
    "    \"sqlite:///../sepsis_prediction_optimization.db\", \"XGBoost_Optimization\"\n",
    ")"
   ]
  },
  {
   "cell_type": "code",
   "execution_count": null,
   "metadata": {},
   "outputs": [],
   "source": [
    "visualize_optuna_study(\n",
    "    \"sqlite:///sepsis_prediction_optimization.db\", \"XGBoost_Optimization\"\n",
    ")"
   ]
  },
  {
   "cell_type": "code",
   "execution_count": 2,
   "metadata": {},
   "outputs": [
    {
     "name": "stdout",
     "output_type": "stream",
     "text": [
      "PyTorch version: 2.5.1\n",
      "CUDA Available: False\n",
      "MPS Available: True\n"
     ]
    }
   ],
   "source": [
    "import torch\n",
    "\n",
    "print(\"PyTorch version:\", torch.__version__)\n",
    "print(\"CUDA Available:\", torch.cuda.is_available())  # Should be False on M1\n",
    "print(\n",
    "    \"MPS Available:\", torch.backends.mps.is_available()\n",
    ")  # Should be True if supported"
   ]
  },
  {
   "cell_type": "code",
   "execution_count": null,
   "metadata": {},
   "outputs": [],
   "source": [
    "import tensorflow as tf\n",
    "\n",
    "print(\"TensorFlow version:\", tf.__version__)\n",
    "print(\"Num GPUs Available:\", len(tf.config.list_physical_devices(\"GPU\")))"
   ]
  }
 ],
 "metadata": {
  "kernelspec": {
   "display_name": "predictsepsis",
   "language": "python",
   "name": "python3"
  },
  "language_info": {
   "codemirror_mode": {
    "name": "ipython",
    "version": 3
   },
   "file_extension": ".py",
   "mimetype": "text/x-python",
   "name": "python",
   "nbconvert_exporter": "python",
   "pygments_lexer": "ipython3",
   "version": "3.10.16"
  }
 },
 "nbformat": 4,
 "nbformat_minor": 2
}
